{
 "cells": [
  {
   "cell_type": "code",
   "execution_count": null,
   "id": "c712dfd9-4cf9-49ca-b7c0-f14cfc78d1bd",
   "metadata": {
    "id": "ur8xi4C7S06n"
   },
   "outputs": [],
   "source": [
    "# Copyright 2023 Google LLC\n",
    "#\n",
    "# Licensed under the Apache License, Version 2.0 (the \"License\");\n",
    "# you may not use this file except in compliance with the License.\n",
    "# You may obtain a copy of the License at\n",
    "#\n",
    "#     https://www.apache.org/licenses/LICENSE-2.0\n",
    "#\n",
    "# Unless required by applicable law or agreed to in writing, software\n",
    "# distributed under the License is distributed on an \"AS IS\" BASIS,\n",
    "# WITHOUT WARRANTIES OR CONDITIONS OF ANY KIND, either express or implied.\n",
    "# See the License for the specific language governing permissions and\n",
    "# limitations under the License."
   ]
  },
  {
   "cell_type": "markdown",
   "id": "f082fcb1-255f-4445-a20c-66c6dd495728",
   "metadata": {
    "id": "JAPoU8Sm5E6e"
   },
   "source": [
    "# Running Vertex Pipelines using E2E Samples repository.\n",
    "\n",
    "\n",
    "<table align=\"left\">\n",
    "\n",
    "  <td>\n",
    "    <a href=\"https://colab.research.google.com/github/teamdatatonic/vertex-pipelines-end-to-end-samples/blob/develop/docs/notebooks/workbench/pipelines_colab.ipynb\">\n",
    "      <img src=\"https://cloud.google.com/ml-engine/images/colab-logo-32px.png\" alt=\"Colab logo\"> Run in Colab\n",
    "    </a>\n",
    "  </td>\n",
    "  <td>\n",
    "    <a href=\"https://github.com/teamdatatonic/vertex-pipelines-end-to-end-samples/blob/develop/docs/notebooks/workbench/pipelines.ipynb\">\n",
    "      <img src=\"https://cloud.google.com/ml-engine/images/github-logo-32px.png\" alt=\"GitHub logo\">\n",
    "      View on GitHub\n",
    "    </a>\n",
    "  </td>\n",
    "  <td>\n",
    "    <a href=\"https://console.cloud.google.com/vertex-ai/workbench/deploy-notebook?download_url=https://raw.githubusercontent.com/teamdatatonic/vertex-pipelines-end-to-end-samples/blob/develop/docs/notebooks/workbench/pipelines_workbench.ipynb\">\n",
    "      <img src=\"https://lh3.googleusercontent.com/UiNooY4LUgW_oTvpsNhPpQzsstV5W8F7rYgxgGBD85cWJoLmrOzhVs_ksK_vgx40SHs7jCqkTkCk=e14-rj-sc0xffffff-h130-w32\" alt=\"Vertex AI logo\">\n",
    "      Open in Vertex AI Workbench\n",
    "    </a>\n",
    "  </td>                                                                                               \n",
    "</table>"
   ]
  },
  {
   "cell_type": "markdown",
   "id": "14d2d0de-b29b-4040-bee7-1452af822fca",
   "metadata": {
    "id": "tvgnzT1CKxrO",
    "tags": []
   },
   "source": [
    "## Overview\n",
    "\n",
    "This notebook shows you how to run production ready pipelines on Google Cloud using Datatonic's Vertex Pipelines End-to-end Samples repository.\n",
    "\n",
    "Learn more about [Vertex Pipelines](https://cloud.google.com/vertex-ai/docs/pipelines/introduction)."
   ]
  },
  {
   "cell_type": "markdown",
   "id": "b7f815bd-0cc6-47ae-9f71-5cd1817c6a0d",
   "metadata": {
    "id": "d975e698c9a4"
   },
   "source": [
    "### Objective\n",
    "\n",
    "In this tutorial, you learn how to set up the repo, launch your first training and predicition pipeline, and analyse the results:\n",
    "\n",
    "This tutorial uses the following Google Cloud services and resources:\n",
    "\n",
    "- *`Vertex Pipelines`*\n",
    "- *`Google Cloud Storage`*\n",
    "- *`Artifact Registry`*\n",
    "- *`BigQuery`*\n",
    "- *`Cloud Build`*\n",
    "\n",
    "The steps performed include:\n",
    "\n",
    "* Deploy infrastructure using Terraform for a typical setup of Vertex AI and other relevant services.\n",
    "* Run ML training and batch prediction pipelines using the Kubeflow Pipelines SDK for an example use case."
   ]
  },
  {
   "cell_type": "markdown",
   "id": "f8fd9521-9fcc-4961-86e3-d43f3ae15d5e",
   "metadata": {
    "id": "08d289fa873f"
   },
   "source": [
    "### Dataset\n",
    "\n",
    "Example ML training and predictions pipelines for scikit-learn/XGBoost will use the popular [Chicago Taxi Trips Dataset](https://console.cloud.google.com/bigquery?p=bigquery-public-data&d=chicago_taxi_trips&page=dataset). The dataset includes taxi trips from 2013 to the present, reported to the City of Chicago in its role as a regulatory agency.\n",
    "\n",
    "\n",
    "This public dataset is hosted in Google BigQuery."
   ]
  },
  {
   "cell_type": "markdown",
   "id": "53231e62-f463-4eb9-a327-3f5537effe80",
   "metadata": {
    "id": "aed92deeb4a0"
   },
   "source": [
    "### Costs \n",
    "\n",
    "\n",
    "This tutorial uses billable components of Google Cloud:\n",
    "\n",
    "* Vertex AI\n",
    "* BigQuery\n",
    "* Cloud Storage\n",
    "* Cloud Build\n",
    "* Artifact Registry\n",
    "\n",
    "\n",
    "Learn about [Vertex AI pricing](https://cloud.google.com/vertex-ai/pricing),\n",
    "[BigQuery pricing](https://cloud.google.com/bigquery/pricing),\n",
    "and [Cloud Storage pricing](https://cloud.google.com/storage/pricing),\n",
    "and [Cloud Build pricing](https://cloud.google.com/build/pricing),\n",
    "and [Artifact Registry](https://cloud.google.com/artifact-registry/pricing),\n",
    "and use the [Pricing Calculator](https://cloud.google.com/products/calculator/)\n",
    "to generate a cost estimate based on your projected usage."
   ]
  },
  {
   "cell_type": "markdown",
   "id": "a66f9fc1-8435-40ef-984d-af5a18e6656e",
   "metadata": {
    "tags": []
   },
   "source": [
    "### Prerequisites\n",
    "\n",
    "- [Pyenv](https://github.com/pyenv/pyenv#installation) for managing Python versions\n",
    "- [Google Cloud SDK (gcloud)](https://cloud.google.com/sdk/docs/quickstart)\n",
    "- Make\n",
    "- [Poetry](https://python-poetry.org)\n",
    "- [Terraform](https://www.terraform.io) (To install Terraform on your local machine we recommend using [tfswitch](https://tfswitch.warrensbox.com/) to automatically choose and download an appropriate version.)"
   ]
  },
  {
   "cell_type": "markdown",
   "id": "0ab044e6-d1ce-448d-af88-31b2462fd792",
   "metadata": {
    "tags": []
   },
   "source": [
    "## Clone Turbo Templates repository"
   ]
  },
  {
   "cell_type": "code",
   "execution_count": null,
   "id": "3176102b-059d-483b-ba67-647e78553947",
   "metadata": {
    "tags": []
   },
   "outputs": [],
   "source": [
    "# Clone a Git repository\n",
    "!git clone -b develop https://github.com/teamdatatonic/vertex-pipelines-end-to-end-samples"
   ]
  },
  {
   "cell_type": "code",
   "execution_count": null,
   "id": "514bb16f-5604-4b49-911a-6eff37f07575",
   "metadata": {
    "tags": []
   },
   "outputs": [],
   "source": [
    "%cd vertex-pipelines-end-to-end-samples/"
   ]
  },
  {
   "cell_type": "markdown",
   "id": "80b3b918-02da-414c-9ea8-a335bfe60387",
   "metadata": {
    "id": "i7EUnXsZhAGF",
    "tags": []
   },
   "source": [
    "## Installation"
   ]
  },
  {
   "cell_type": "markdown",
   "id": "467b87cf-6956-4d9d-b9d9-85ed2efaa195",
   "metadata": {},
   "source": [
    "Install the packages required for executing this notebook."
   ]
  },
  {
   "cell_type": "code",
   "execution_count": null,
   "id": "b4441b15-24ed-4b41-a434-9e7651c2a5b9",
   "metadata": {},
   "outputs": [],
   "source": [
    "# Install poetry\n",
    "import os\n",
    "!curl -sSL https://install.python-poetry.org | POETRY_HOME=$HOME/.poetry python3 -\n",
    "os.environ['PATH'] += os.pathsep + os.path.join(os.environ['HOME'], '.poetry/bin')\n",
    "!poetry --version"
   ]
  },
  {
   "cell_type": "code",
   "execution_count": null,
   "id": "f371b7e1-fea0-40f5-9a2c-7ceacdfbdc37",
   "metadata": {
    "id": "2b4ef9b72d43",
    "tags": []
   },
   "outputs": [],
   "source": [
    "#Install poetry dependencies for ML pipelines\n",
    "! make install"
   ]
  },
  {
   "cell_type": "markdown",
   "id": "6e4a80e2-3169-4c0e-b4df-df7a9f8ec69e",
   "metadata": {
    "tags": []
   },
   "source": [
    "### Terraform"
   ]
  },
  {
   "cell_type": "markdown",
   "id": "4371d2cf-523e-4c2a-891d-67e162da3d7c",
   "metadata": {
    "tags": []
   },
   "source": [
    "**Installing Terraform by downloading a pre-compiled binary.**\n",
    "1. **Download** the appropriate package for your system as a zip archive from the Terraform website.\n",
    "2. **Unzip** the downloaded package.\n",
    "3. **Add Terraform to PATH**."
   ]
  },
  {
   "cell_type": "code",
   "execution_count": null,
   "id": "61201833-4162-4fa8-a555-b83ce99eef59",
   "metadata": {
    "tags": []
   },
   "outputs": [],
   "source": [
    "%%bash\n",
    "mkdir temp\n",
    "cd temp\n",
    "curl -so terraform.zip https://releases.hashicorp.com/terraform/1.5.7/terraform_1.5.7_linux_amd64.zip\n",
    "unzip terraform.zip > /dev/null && rm -f terraform.zip > /dev/null\n",
    "mkdir $HOME/.bin\n",
    "mv terraform $HOME/.bin > /dev/null\n",
    "cd ..\n",
    "rm -r temp"
   ]
  },
  {
   "cell_type": "code",
   "execution_count": null,
   "id": "80366eba-603c-44f0-9069-496ec4499c39",
   "metadata": {},
   "outputs": [],
   "source": [
    "import os\n",
    "os.environ['PATH'] += os.pathsep + os.path.join(os.environ['HOME'], '.bin')"
   ]
  },
  {
   "cell_type": "code",
   "execution_count": null,
   "id": "184e9279-d446-4b29-95be-29cf57eebba7",
   "metadata": {},
   "outputs": [],
   "source": [
    "! terraform -version"
   ]
  },
  {
   "cell_type": "markdown",
   "id": "a1571126-c7d3-477a-846a-9a387e7a1aab",
   "metadata": {
    "tags": []
   },
   "source": [
    "## Before You Begin"
   ]
  },
  {
   "cell_type": "markdown",
   "id": "a13f3a75-a6d2-4d08-8abf-667a597193cf",
   "metadata": {
    "id": "BF1j6f9HApxa",
    "tags": []
   },
   "source": [
    "### Set up your Google Cloud project\n",
    "\n",
    "**The following steps are required, regardless of your notebook environment.**\n",
    "\n",
    "1. [Select or create a Google Cloud project](https://console.cloud.google.com/cloud-resource-manager). When you first create an account, you get a $300 free credit towards your compute/storage costs.\n",
    "\n",
    "2. [Make sure that billing is enabled for your project](https://cloud.google.com/billing/docs/how-to/modify-project)."
   ]
  },
  {
   "cell_type": "markdown",
   "id": "318a28b1-d443-4348-a3a3-9ea7be7d4a4a",
   "metadata": {
    "id": "WReHDGG5g0XY"
   },
   "source": [
    "#### Set your project ID\n",
    "\n",
    "**If you don't know your project ID**, try the following:\n",
    "* Run `gcloud config list`.\n",
    "* Run `gcloud projects list`.\n",
    "* See the support page: [Locate the project ID](https://support.google.com/googleapi/answer/7014113)"
   ]
  },
  {
   "cell_type": "code",
   "execution_count": null,
   "id": "cb0d271e-1105-4925-a451-c8b417cc4920",
   "metadata": {
    "id": "oM1iC_MfAts1",
    "tags": []
   },
   "outputs": [
    {
     "name": "stdout",
     "output_type": "stream",
     "text": [
      "\u001b[1;33mWARNING:\u001b[0m You do not appear to have access to project [[my-project-id]] or it does not exist.\n",
      "Are you sure you wish to set property [core/project] to [my-project-id]?\n",
      "\n",
      "Do you want to continue (Y/n)?  "
     ]
    }
   ],
   "source": [
    "PROJECT_ID = \"[my-project-id]\"\n",
    "# Set the project id\n",
    "! gcloud config set project {PROJECT_ID}"
   ]
  },
  {
   "cell_type": "markdown",
   "id": "282aa597-f7e4-4fa9-8bb3-eecf95b57d02",
   "metadata": {},
   "source": [
    "### Authenticate your Google Cloud account\n",
    "\n",
    "\n",
    "You are running the notebook on Vertex AI workbench, therefore, you are already authenticated."
   ]
  },
  {
   "cell_type": "markdown",
   "id": "a023663e-f298-462b-9c2a-390ef32c2502",
   "metadata": {},
   "source": [
    "### Environment Setup"
   ]
  },
  {
   "cell_type": "markdown",
   "id": "3f4b1455-bdf0-4d70-a1de-93ace9cea86b",
   "metadata": {},
   "source": [
    "In order to run make commands relevant environment variables need to be set. Please update the environment variables for your dev environment (particularly `VERTEX_PROJECT_ID` and `VERTEX_LOCATION`)."
   ]
  },
  {
   "cell_type": "code",
   "execution_count": null,
   "id": "9bc832f9-3b4d-4e4c-8bb5-11bb29364e23",
   "metadata": {
    "tags": []
   },
   "outputs": [],
   "source": [
    "%%writefile .env\n",
    "\n",
    "VERTEX_LOCATION=europe-west2\n",
    "VERTEX_PROJECT_ID=my-project-id\n",
    "\n",
    "# Suffix (e.g. '<your name>') to facilitate running concurrent pipelines in the same Google Cloud project. Change if working in a team to avoid overwriting resources during development \n",
    "RESOURCE_SUFFIX=default\n",
    "\n",
    "# Leave as-is\n",
    "VERTEX_SA_EMAIL=vertex-pipelines@${VERTEX_PROJECT_ID}.iam.gserviceaccount.com\n",
    "VERTEX_PIPELINE_ROOT=gs://${VERTEX_PROJECT_ID}-pl-root\n",
    "CONTAINER_IMAGE_REGISTRY=${VERTEX_LOCATION}-docker.pkg.dev/${VERTEX_PROJECT_ID}/vertex-images\n",
    "\n",
    "# Optional\n",
    "VERTEX_CMEK_IDENTIFIER=\n",
    "VERTEX_NETWORK="
   ]
  },
  {
   "cell_type": "code",
   "execution_count": null,
   "id": "db667536-b4f9-4249-86f1-07d8ac3d6d4c",
   "metadata": {
    "tags": []
   },
   "outputs": [],
   "source": [
    "! pip install python-dotenv"
   ]
  },
  {
   "cell_type": "code",
   "execution_count": null,
   "id": "303fb592-dabe-4e20-a915-33af32bd7a80",
   "metadata": {
    "tags": []
   },
   "outputs": [],
   "source": [
    "from dotenv import load_dotenv\n",
    "\n",
    "load_dotenv()"
   ]
  },
  {
   "cell_type": "markdown",
   "id": "ddda6825-4da6-4d1a-8e2f-29717d9a6f04",
   "metadata": {
    "id": "zgPO1eR3CYjk",
    "tags": []
   },
   "source": [
    "## Infrastructure deployment using terraform.\n"
   ]
  },
  {
   "cell_type": "markdown",
   "id": "41c67e53-b246-45c2-bdae-09d2a8c3ad95",
   "metadata": {},
   "source": [
    "#### Enable the Cloud Resource Manager and Service Usage APs for your project."
   ]
  },
  {
   "cell_type": "code",
   "execution_count": null,
   "id": "a5870230-222b-45bd-97a4-17eb3af6dac5",
   "metadata": {
    "tags": []
   },
   "outputs": [],
   "source": [
    "! gcloud services enable cloudresourcemanager.googleapis.com --project=$VERTEX_PROJECT_ID\n",
    "! gcloud services enable serviceusage.googleapis.com --project=$VERTEX_PROJECT_ID"
   ]
  },
  {
   "cell_type": "markdown",
   "id": "78418043-e737-48cb-b030-c934835cceb5",
   "metadata": {},
   "source": [
    "#### Create tfstate bucket\n",
    "\n",
    "Before provisioning your infrastructure we need to create Google Cloud Storage (GCS) bucket that will be used to store the [state files](https://developer.hashicorp.com/terraform/language/state/remote) remotely for Terraform deployments."
   ]
  },
  {
   "cell_type": "markdown",
   "id": "bb7a3f5c-9789-4f27-870c-bd6f38e587e4",
   "metadata": {
    "id": "-EcIXiGsCePi"
   },
   "source": [
    "**Only if your bucket doesn't already exist**: Run the following cell to create your Cloud Storage bucket."
   ]
  },
  {
   "cell_type": "code",
   "execution_count": null,
   "id": "1133567c-b668-44aa-8c6c-77cbd70065fd",
   "metadata": {
    "id": "NIq7R4HZCfIc",
    "tags": []
   },
   "outputs": [],
   "source": [
    "! gsutil mb -l $VERTEX_LOCATION -p $VERTEX_PROJECT_ID gs://$VERTEX_PROJECT_ID-tfstate"
   ]
  },
  {
   "cell_type": "markdown",
   "id": "a836f098-a37a-4013-9463-4cec11982bac",
   "metadata": {
    "id": "960505627ddf"
   },
   "source": [
    "### Deploy required infrastructure"
   ]
  },
  {
   "cell_type": "markdown",
   "id": "d2668618-4a57-402e-9861-daf95eb27bba",
   "metadata": {
    "tags": []
   },
   "source": [
    "Deploy command will:\n",
    "1. Prepare a Terraform working directory by downloading any necessary provider plugins and initialize the backend configuration.\n",
    "1. Create infrastructure resources defined in Terraform configuration (terraform/envs/dev)."
   ]
  },
  {
   "cell_type": "code",
   "execution_count": null,
   "id": "8329d73d-ba8f-443e-ab65-379a98c6f254",
   "metadata": {
    "tags": []
   },
   "outputs": [],
   "source": [
    "! make deploy auto-approve=true"
   ]
  },
  {
   "cell_type": "markdown",
   "id": "adfebbc4-1a15-4bff-a98d-5840ee3be972",
   "metadata": {
    "tags": []
   },
   "source": [
    "## Example ML Pipelines"
   ]
  },
  {
   "cell_type": "markdown",
   "id": "cd23f3b5-1e91-4dc1-acb0-9e9b3e06e259",
   "metadata": {
    "tags": []
   },
   "source": [
    "To automate, monitor, and govern your ML workflows, you can use [Vertex AI](https://cloud.google.com/vertex-ai/docs/start/introduction-mlops). Vertex AI is a powerful platform offered by Google Cloud that empowers organizations to streamline and enhance their Machine Learning (ML) workflows through automation, monitoring, and governance.\n",
    "\n",
    "- **Automation**: Vertex AI offers a suite of tools and services designed to automate various aspects of ML development and deployment. This includes automating data preprocessing, model training, hyperparameter tuning, and model deployment. Automation not only saves time but also reduces the potential for human error, making your ML workflows more efficient and reliable.\n",
    "\n",
    "- **Monitoring**: Effective monitoring is crucial for maintaining the performance and reliability of ML models in production. Vertex AI provides monitoring capabilities that allow you to track model performance, detect drift in data distributions, and set up alerts for anomalies. This proactive monitoring ensures that your models continue to deliver accurate results as data and business conditions change over time.\n",
    "\n",
    "- **Governance**: Managing ML models and data in a secure and compliant manner is essential for businesses, especially those in regulated industries. Vertex AI helps you implement governance policies to control access to data, monitor model usage, and enforce compliance with data privacy regulations. This ensures that your ML operations are in line with legal and ethical standards.\n",
    "\n",
    "- **Scalability**: Vertex AI is built on Google Cloud's infrastructure, which means it offers unparalleled scalability. Whether you're dealing with small-scale experiments or large-scale production deployments, Vertex AI can scale to meet your needs, ensuring that your ML workflows can handle increased workloads without performance bottlenecks.\n",
    "\n",
    "- **Collaboration**: Collaboration is essential in ML development, and Vertex AI provides features that facilitate collaboration among data scientists, machine learning engineers, and other stakeholders. You can share notebooks, collaborate on model development, and maintain version control of your ML assets.\n",
    "\n",
    "- **Model Serving**: Vertex AI makes it easy to deploy ML models as APIs for real-time inference or batch processing. This enables you to integrate your ML models into applications, websites, or other services with ease.\n",
    "\n",
    "- **Cost Management**: Cost control is a crucial aspect of any ML project. Vertex AI offers cost management tools and insights to help you optimize your ML workflows and keep your expenses in check.\n",
    "\n",
    "By utilizing Vertex AI, you can take advantage of Google Cloud's cutting-edge technology and expertise in machine learning to accelerate your MLOps journey. The platform offers a comprehensive set of tools and services that cover the entire ML lifecycle, from data preparation to model deployment and beyond, making it a valuable resource for organizations looking to harness the power of ML in a scalable, efficient, and secure manner.\n",
    "\n",
    "To learn more about MLOps on Vertex AI and how it can transform your ML workflows, you can visit the [official documentation](https://cloud.google.com/vertex-ai/docs/start/introduction-mlops).\n"
   ]
  },
  {
   "cell_type": "markdown",
   "id": "2ccf23b8-cce4-44bf-8b4e-1140bf7a8d95",
   "metadata": {
    "tags": []
   },
   "source": [
    "**This repository provides an example ML training and prediction pipelines for XGBoost using the popular [Chicago Taxi Dataset](https://console.cloud.google.com/marketplace/details/city-of-chicago-public-data/chicago-taxi-trips).**\n"
   ]
  },
  {
   "cell_type": "markdown",
   "id": "aea16c5d-fada-4920-9ef7-efad814afe26",
   "metadata": {},
   "source": [
    "#### Pre-requisites\n",
    "\n",
    "Before you can successfully execute the example pipelines, there are a few additional components you need to deploy. These components have not been included in the Terraform code as they are specific to these pipelines."
   ]
  },
  {
   "cell_type": "markdown",
   "id": "72cdb72e-ecc8-4134-b4d6-e808eddf80a7",
   "metadata": {},
   "source": [
    "1. Create a new BigQuery dataset for the Chicago Taxi data:"
   ]
  },
  {
   "cell_type": "code",
   "execution_count": null,
   "id": "2e24884b-e16b-4f5f-bec1-9b7c901130cf",
   "metadata": {
    "tags": []
   },
   "outputs": [],
   "source": [
    "! bq --location=${VERTEX_LOCATION} mk --dataset \"${VERTEX_PROJECT_ID}:chicago_taxi_trips\""
   ]
  },
  {
   "cell_type": "markdown",
   "id": "d0b11e95-a8b4-4c4b-8f90-d040a97253dd",
   "metadata": {},
   "source": [
    "2. Create a new BigQuery dataset for data processing during the pipelines:"
   ]
  },
  {
   "cell_type": "code",
   "execution_count": null,
   "id": "6fee2b6d-44dd-4371-9fd5-76a95dd33d74",
   "metadata": {
    "tags": []
   },
   "outputs": [],
   "source": [
    "! bq --location=${VERTEX_LOCATION} mk --dataset \"${VERTEX_PROJECT_ID}:preprocessing\""
   ]
  },
  {
   "cell_type": "markdown",
   "id": "18a8c603-6d36-4d70-b0b4-25b71f9d9b6b",
   "metadata": {},
   "source": [
    "3. Set up a BigQuery transfer job to mirror the Chicago Taxi dataset to your project"
   ]
  },
  {
   "cell_type": "code",
   "execution_count": null,
   "id": "c0aeced0-25a4-4d65-ba16-695a2c257c19",
   "metadata": {},
   "outputs": [],
   "source": [
    "! pip install google-cloud-bigquery-datatransfer"
   ]
  },
  {
   "cell_type": "code",
   "execution_count": null,
   "id": "66a2dcba-2ee4-44a4-9709-25c95cff7786",
   "metadata": {
    "tags": []
   },
   "outputs": [],
   "source": [
    "import os\n",
    "from google.cloud import bigquery_datatransfer\n",
    "\n",
    "transfer_client = bigquery_datatransfer.DataTransferServiceClient()\n",
    "\n",
    "destination_project_id = os.environ[\"VERTEX_PROJECT_ID\"]\n",
    "destination_dataset_id = \"chicago_taxi_trips\"\n",
    "source_project_id = \"bigquery-public-data\"\n",
    "source_dataset_id = \"chicago_taxi_trips\"\n",
    "transfer_config = bigquery_datatransfer.TransferConfig(\n",
    "    destination_dataset_id=destination_dataset_id,\n",
    "    display_name=\"Chicago taxi trip mirror\",\n",
    "    data_source_id=\"cross_region_copy\",\n",
    "    params={\n",
    "        \"source_project_id\": source_project_id,\n",
    "        \"source_dataset_id\": source_dataset_id,\n",
    "    },\n",
    "    schedule=\"every 24 hours\",\n",
    ")\n",
    "transfer_config = transfer_client.create_transfer_config(\n",
    "    parent=transfer_client.common_project_path(destination_project_id),\n",
    "    transfer_config=transfer_config,\n",
    ")\n",
    "TRANSFER_CONFIG=transfer_config.name\n",
    "print(f\"Created transfer config: {TRANSFER_CONFIG}\")"
   ]
  },
  {
   "cell_type": "markdown",
   "id": "2c6b6b48-9861-40a3-a999-d73aeac674be",
   "metadata": {},
   "source": [
    "### Building the container images\n",
    "\n",
    "The `model` directory contains the code for custom training and serving container images `model/training/train.py`.\n",
    "\n",
    "A custom container is a Docker image that you create to run your training application. By running your machine learning (ML) training job in a custom container, you can use ML frameworks, non-ML dependencies, libraries, and binaries that are not otherwise supported on Vertex AI. To learn more you can check out [official documentation](https://cloud.google.com/vertex-ai/docs/training/containers-overview)."
   ]
  },
  {
   "cell_type": "markdown",
   "id": "905ad09c-d4c0-40cf-bfaa-621bd8c8e2c9",
   "metadata": {},
   "source": [
    "To build the training and serving container images and push them to Artifact Registry run the next cell."
   ]
  },
  {
   "cell_type": "code",
   "execution_count": null,
   "id": "9bd43278-9809-4673-b1ad-4eaed2446f21",
   "metadata": {
    "tags": []
   },
   "outputs": [],
   "source": [
    "! make build"
   ]
  },
  {
   "cell_type": "markdown",
   "id": "4248cc3d-660f-409e-9395-7f700a123e18",
   "metadata": {
    "tags": []
   },
   "source": [
    "### Running Pipelines\n",
    "\n",
    "You can run the training pipeline by executing cell below.\n",
    "\n",
    "This will start the pipeline using the chosen template on Vertex AI, namely it will:\n",
    "\n",
    "1. Compile the pipeline using the Kubeflow Pipelines SDK\n",
    "1. Trigger the pipeline with the help of `pipelines/trigger/main.py`"
   ]
  },
  {
   "cell_type": "markdown",
   "id": "db38a19e-bd11-4311-85f4-f8714d3743a6",
   "metadata": {},
   "source": [
    "**Run Training Pipeline**"
   ]
  },
  {
   "cell_type": "code",
   "execution_count": null,
   "id": "99de7032-b9c9-4ad4-b750-89ac9e9a0cdf",
   "metadata": {
    "tags": []
   },
   "outputs": [],
   "source": [
    "! make run pipeline=training build=false"
   ]
  },
  {
   "cell_type": "markdown",
   "id": "4a351524-923e-4f94-bc5f-2e8363473f8e",
   "metadata": {
    "tags": []
   },
   "source": [
    "After executing the command, a link will appear, leading you to the Vertex AI platform, where you can monitor your pipeline job. Alternatively, you can access it through the Google Cloud Console UI under Vertex AI/Pipelines."
   ]
  },
  {
   "cell_type": "markdown",
   "id": "627acd39-f46f-43ff-8d19-e7cd18ef7547",
   "metadata": {
    "tags": []
   },
   "source": [
    "**Training Pipeline**\n",
    "![Training Pipeline](https://github.com/teamdatatonic/vertex-pipelines-end-to-end-samples/blob/develop/docs/images/training_pipeline.png?raw=true)"
   ]
  },
  {
   "cell_type": "markdown",
   "id": "e8b196f6-0c99-402c-816e-aa94ad17f987",
   "metadata": {},
   "source": [
    "**Run Prediction Pipeline** \n",
    "\n",
    "After successful training job, you can try prediction pipeline."
   ]
  },
  {
   "cell_type": "code",
   "execution_count": null,
   "id": "56d8595e-b1a3-4b23-9e76-bf7ba34fc443",
   "metadata": {},
   "outputs": [],
   "source": [
    "! make run pipeline=prediction build=false"
   ]
  },
  {
   "cell_type": "markdown",
   "id": "c9372260-6c12-4d01-bfd9-15640e39fe67",
   "metadata": {
    "tags": []
   },
   "source": [
    "**Prediction Pipeline**\n",
    "\n",
    "![Predictions Pipeline](https://github.com/teamdatatonic/vertex-pipelines-end-to-end-samples/blob/develop/docs/images/prediction_pipeline.png?raw=true)"
   ]
  },
  {
   "cell_type": "markdown",
   "id": "84cf85b5-add4-4df1-a635-b7f513407343",
   "metadata": {
    "id": "TpV-iwP9qw9c"
   },
   "source": [
    "## Cleaning up\n",
    "\n",
    "To clean up all Google Cloud resources used in this project, you can [delete the Google Cloud\n",
    "project](https://cloud.google.com/resource-manager/docs/creating-managing-projects#shutting_down_projects) you used for the tutorial.\n",
    "\n",
    "Otherwise, you can delete the individual resources you created in this tutorial:\n"
   ]
  },
  {
   "cell_type": "markdown",
   "id": "04cd62bf-aa69-474a-8765-d32c59ef53da",
   "metadata": {},
   "source": [
    "**Empty the buckets to enable their deletion:**"
   ]
  },
  {
   "cell_type": "code",
   "execution_count": null,
   "id": "9f37f2ce-b9ad-465a-a6fc-ea279a22b95a",
   "metadata": {
    "tags": []
   },
   "outputs": [],
   "source": [
    "%%bash\n",
    "gsutil rm -a gs://${VERTEX_PROJECT_ID}-staging/**\n",
    "gsutil rm -a gs://${VERTEX_PROJECT_ID}-pl-root/**"
   ]
  },
  {
   "cell_type": "markdown",
   "id": "291ef684-bbaa-4949-99f2-ff55a86baf70",
   "metadata": {
    "tags": []
   },
   "source": [
    "**Delete data transfer config:**\n",
    "\n",
    "*If transfer config name was not set automatically you can find it via Google Cloud Console UI (BigQuery/Data Transfers)*."
   ]
  },
  {
   "cell_type": "code",
   "execution_count": null,
   "id": "7eaf1057-14a0-4135-b871-9cf703b08b1c",
   "metadata": {
    "tags": []
   },
   "outputs": [],
   "source": [
    "import google.api_core.exceptions\n",
    "from google.cloud import bigquery_datatransfer\n",
    "\n",
    "transfer_client = bigquery_datatransfer.DataTransferServiceClient()\n",
    "\n",
    "transfer_config_name = TRANSFER_CONFIG # Transfer Config Name\n",
    "try:\n",
    "    transfer_client.delete_transfer_config(name=transfer_config_name)\n",
    "except google.api_core.exceptions.NotFound:\n",
    "    print(\"Transfer config not found.\")\n",
    "else:\n",
    "    print(f\"Deleted transfer config: {transfer_config_name}\")"
   ]
  },
  {
   "cell_type": "markdown",
   "id": "e79792bb-31e0-4427-a9fc-951b8a9b8968",
   "metadata": {
    "tags": []
   },
   "source": [
    "**Delete BigQuery dataset for the Chicago Taxi data:**"
   ]
  },
  {
   "cell_type": "code",
   "execution_count": null,
   "id": "6bb5d0f9-1498-4314-a0ad-f6aacb044a3b",
   "metadata": {
    "tags": []
   },
   "outputs": [],
   "source": [
    "! bq --location=${VERTEX_LOCATION} rm -f -r --dataset \"${VERTEX_PROJECT_ID}:chicago_taxi_trips\" "
   ]
  },
  {
   "cell_type": "markdown",
   "id": "c2d4cf02-1d43-4e70-b411-d9660635c2f0",
   "metadata": {
    "tags": []
   },
   "source": [
    "**Delete BigQuery dataset for data processing during the pipelines:**"
   ]
  },
  {
   "cell_type": "code",
   "execution_count": null,
   "id": "5b7dfd7a-29b8-4b23-9893-b2a1bd05aac9",
   "metadata": {
    "tags": []
   },
   "outputs": [],
   "source": [
    "! bq --location=${VERTEX_LOCATION} rm -f -r --dataset \"${VERTEX_PROJECT_ID}:preprocessing\" "
   ]
  },
  {
   "cell_type": "markdown",
   "id": "4aeb5933-65e7-46a4-a228-ac927510c117",
   "metadata": {
    "tags": []
   },
   "source": [
    "**Destroy infrastructure by executing undeploy command (terraform destroy):**"
   ]
  },
  {
   "cell_type": "code",
   "execution_count": null,
   "id": "7c938e96-1139-4d84-abd8-a2fc5c10c35b",
   "metadata": {
    "id": "sx_vKniMq9ZX",
    "tags": []
   },
   "outputs": [],
   "source": [
    "! make undeploy auto-approve=true"
   ]
  },
  {
   "cell_type": "markdown",
   "id": "cc67063a-337a-4517-9bd0-15f07d5bc5ee",
   "metadata": {
    "tags": []
   },
   "source": [
    "**Delete local files:**"
   ]
  },
  {
   "cell_type": "code",
   "execution_count": null,
   "id": "6d0aec50-4b7c-407c-b73f-825c40e3758b",
   "metadata": {
    "tags": []
   },
   "outputs": [],
   "source": [
    "%%bash\n",
    "cd ..\n",
    "rm -r vertex-pipelines-end-to-end-samples"
   ]
  }
 ],
 "metadata": {
  "kernelspec": {
   "display_name": "PySpark (Local)",
   "language": "python",
   "name": "local-pyspark"
  },
  "language_info": {
   "codemirror_mode": {
    "name": "ipython",
    "version": 3
   },
   "file_extension": ".py",
   "mimetype": "text/x-python",
   "name": "python",
   "nbconvert_exporter": "python",
   "pygments_lexer": "ipython3",
   "version": "3.10.12"
  }
 },
 "nbformat": 4,
 "nbformat_minor": 5
}
