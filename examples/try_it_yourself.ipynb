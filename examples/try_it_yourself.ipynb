{
 "cells": [
  {
   "cell_type": "code",
   "execution_count": null,
   "id": "d1969712-ce0a-4ca5-8581-fe0f817e5d13",
   "metadata": {
    "tags": []
   },
   "outputs": [],
   "source": [
    "# Clone a Git repository\n",
    "!git clone -b develop https://github.com/teamdatatonic/vertex-pipelines-end-to-end-samples"
   ]
  },
  {
   "cell_type": "code",
   "execution_count": null,
   "id": "d4979f79-2c58-4554-bd93-db89a6367098",
   "metadata": {
    "tags": []
   },
   "outputs": [],
   "source": [
    "%cd vertex-pipelines-end-to-end-samples"
   ]
  },
  {
   "cell_type": "code",
   "execution_count": null,
   "id": "435fb56c-7b27-4c7f-8d96-751bc9ba0324",
   "metadata": {
    "tags": []
   },
   "outputs": [],
   "source": [
    "PROJECT_ID = \"my-project-id\"  # @param {type:\"string\"}\n",
    "LOCATION = \"europe-west2\" # @param {type:\"string\"}"
   ]
  },
  {
   "cell_type": "code",
   "execution_count": null,
   "id": "9853f0e0-c712-4e41-92b3-edfdadb34593",
   "metadata": {},
   "outputs": [],
   "source": [
    "# Set the project id\n",
    "!gcloud config set project {PROJECT_ID}"
   ]
  },
  {
   "cell_type": "code",
   "execution_count": null,
   "id": "a43743b5-b750-4ffe-924e-f19b75a20570",
   "metadata": {
    "tags": []
   },
   "outputs": [],
   "source": [
    "!gcloud auth application-default login"
   ]
  },
  {
   "cell_type": "code",
   "execution_count": null,
   "id": "18f3b0f6-ff25-4436-a604-4d694e758d16",
   "metadata": {
    "tags": []
   },
   "outputs": [],
   "source": [
    "import os\n",
    "\n",
    "os.environ['PIPELINE_TEMPLATE'] = 'xgboost'\n",
    "os.environ['VERTEX_CMEK_IDENTIFIER'] = ''\n",
    "os.environ['VERTEX_LOCATION'] = LOCATION\n",
    "os.environ['VERTEX_NETWORK'] = ''\n",
    "os.environ['VERTEX_PROJECT_ID'] = PROJECT_ID\n",
    "os.environ['RESOURCE_SUFFIX']='default'\n",
    "\n",
    "# Calculate the value of VERTEX_SA_EMAIL based on VERTEX_PROJECT_ID\n",
    "os.environ['VERTEX_SA_EMAIL'] = f'vertex-pipelines@{os.environ[\"VERTEX_PROJECT_ID\"]}.iam.gserviceaccount.com'\n",
    "os.environ['PIPELINE_FILES_GCS_PATH'] = f'gs://{os.environ[\"VERTEX_PROJECT_ID\"]}-pl-root'\n",
    "os.environ['CONTAINER_IMAGE_REGISTRY']=f'{os.environ[\"VERTEX_LOCATION\"]}-docker.pkg.dev/{os.environ[\"VERTEX_PROJECT_ID\"]}/vertex-images'"
   ]
  },
  {
   "cell_type": "code",
   "execution_count": null,
   "id": "fcf5ce7a-ef56-4e55-877c-697c4e8b2fb8",
   "metadata": {
    "tags": []
   },
   "outputs": [],
   "source": [
    "!gcloud services enable cloudresourcemanager.googleapis.com --project={PROJECT_ID}\n",
    "!gcloud services enable serviceusage.googleapis.com --project={PROJECT_ID}\n",
    "!gcloud storage buckets create gs://{PROJECT_ID}-tfstate --project={PROJECT_ID} --location={LOCATION} --uniform-bucket-level-access"
   ]
  },
  {
   "cell_type": "code",
   "execution_count": null,
   "id": "798f98ee-3cdc-4dbe-9e3e-a7e9c1d8d1cd",
   "metadata": {
    "tags": []
   },
   "outputs": [],
   "source": [
    "!make install"
   ]
  },
  {
   "cell_type": "code",
   "execution_count": null,
   "id": "7963e7b2-aa51-46fd-b7e5-8f356f8beeec",
   "metadata": {
    "tags": []
   },
   "outputs": [],
   "source": [
    "#Make deploy needs approval (i.e. -auto-approve flag) MAKE FILE WOULD NEED SOME CHANGES\n",
    "!make deploy"
   ]
  },
  {
   "cell_type": "code",
   "execution_count": null,
   "id": "95726e43-1bc1-4de5-a463-0fae31a5256c",
   "metadata": {
    "tags": []
   },
   "outputs": [],
   "source": [
    "!bq --location={LOCATION} mk --dataset \"{PROJECT_ID}:chicago_taxi_trips\""
   ]
  },
  {
   "cell_type": "code",
   "execution_count": null,
   "id": "83ed96eb-3a12-4d07-8b00-701708e9f823",
   "metadata": {
    "tags": []
   },
   "outputs": [],
   "source": [
    "!bq --location={LOCATION} mk --dataset \"{PROJECT_ID}:preprocessing\""
   ]
  },
  {
   "cell_type": "code",
   "execution_count": null,
   "id": "bc01d526-c528-4f82-9541-6a8319fbedaf",
   "metadata": {
    "tags": []
   },
   "outputs": [],
   "source": [
    "# TO TRANSFER DATA USED CONSOLE TO CREATE DATA TRANSFER\n",
    "\n",
    "\n",
    "#ERRORS\n",
    "# bq mk asks for code to be pasted from generated link to authenticate data transfer. Cant be done in jupyter?\n",
    "\n",
    "# bq mk --transfer_config \\\n",
    "#   --project_id=${VERTEX_PROJECT_ID} \\\n",
    "#   --data_source=\"cross_region_copy\" \\\n",
    "#   --target_dataset=\"chicago_taxi_trips\" \\\n",
    "#   --display_name=\"Chicago taxi trip mirror\" \\\n",
    "#   --params='{\"source_dataset_id\":\"'\"chicago_taxi_trips\"'\",\"source_project_id\":\"'\"bigquery-public-data\"'\"}'\n",
    "\n",
    "\n",
    "# python code below gives \"Request contains an invalid argument. error\n",
    "\n",
    "\n",
    "#!pip install google-cloud-bigquery-datatransfer\n",
    "# from google.cloud import bigquery_datatransfer\n",
    "\n",
    "# transfer_client = bigquery_datatransfer.DataTransferServiceClient()\n",
    "\n",
    "# destination_project_id = \"dt-donatas-sandbox-dev\"\n",
    "# destination_dataset_id = \"dt-donatas-sandbox-dev:chicago_taxi_trips\"\n",
    "# source_project_id = \"bigquery-public-data\"\n",
    "# source_dataset_id = \"chicago_taxi_trips\"\n",
    "# transfer_config = bigquery_datatransfer.TransferConfig(\n",
    "#     destination_dataset_id=destination_dataset_id,\n",
    "#     display_name=\"Chicago taxi trip mirror\",\n",
    "#     data_source_id=\"cross_region_copy\",\n",
    "#     params={\n",
    "#         \"source_project_id\": source_project_id,\n",
    "#         \"source_dataset_id\": source_dataset_id,\n",
    "#     },\n",
    "#     schedule=\"every 24 hours\",\n",
    "# )\n",
    "# transfer_config = transfer_client.create_transfer_config(\n",
    "#     parent=transfer_client.common_project_path(destination_project_id),\n",
    "#     transfer_config=transfer_config,\n",
    "# )\n",
    "# print(f\"Created transfer config: {transfer_config.name}\")"
   ]
  },
  {
   "cell_type": "code",
   "execution_count": null,
   "id": "d69779bd-47a3-4075-8c58-48f2dea2a6da",
   "metadata": {
    "tags": []
   },
   "outputs": [],
   "source": [
    "!make build"
   ]
  },
  {
   "cell_type": "code",
   "execution_count": null,
   "id": "3e8f1804-72ae-4964-a00c-9d60f70f97a6",
   "metadata": {
    "tags": []
   },
   "outputs": [],
   "source": [
    "!make run pipeline=training build=false"
   ]
  },
  {
   "cell_type": "code",
   "execution_count": null,
   "id": "96a8c160-415c-45b6-81b6-845cfcd9501d",
   "metadata": {},
   "outputs": [],
   "source": [
    "!make run pipeline=prediction build=false"
   ]
  },
  {
   "cell_type": "code",
   "execution_count": null,
   "id": "61504b1b-f988-43f2-9dc1-385afdc83d97",
   "metadata": {},
   "outputs": [],
   "source": [
    "#!make undeploy"
   ]
  }
 ],
 "metadata": {
  "kernelspec": {
   "display_name": "Python 3",
   "language": "python",
   "name": "python3"
  },
  "language_info": {
   "codemirror_mode": {
    "name": "ipython",
    "version": 3
   },
   "file_extension": ".py",
   "mimetype": "text/x-python",
   "name": "python",
   "nbconvert_exporter": "python",
   "pygments_lexer": "ipython3",
   "version": "3.10.5"
  },
  "vscode": {
   "interpreter": {
    "hash": "fd2d2b37aae7c0649f55b7e5d509b0b6c853821eea0be4d0f279f57c5531e1e5"
   }
  }
 },
 "nbformat": 4,
 "nbformat_minor": 5
}
